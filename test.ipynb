{
 "cells": [
  {
   "cell_type": "code",
   "execution_count": 104,
   "id": "a9d68c17",
   "metadata": {},
   "outputs": [
    {
     "name": "stderr",
     "output_type": "stream",
     "text": [
      "Map: 100%|██████████| 353/353 [00:00<00:00, 5728.39 examples/s]\n",
      "Some weights of BertForSequenceClassification were not initialized from the model checkpoint at bert-base-uncased and are newly initialized: ['classifier.bias', 'classifier.weight']\n",
      "You should probably TRAIN this model on a down-stream task to be able to use it for predictions and inference.\n"
     ]
    },
    {
     "name": "stdout",
     "output_type": "stream",
     "text": [
      "Starting training...\n"
     ]
    },
    {
     "name": "stderr",
     "output_type": "stream",
     "text": [
      "c:\\Users\\ALBIN JOHN\\OneDrive\\Desktop\\Passive or Agressive Email rewriterr\\tone_env\\Lib\\site-packages\\torch\\utils\\data\\dataloader.py:665: UserWarning: 'pin_memory' argument is set as true but no accelerator is found, then device pinned memory won't be used.\n",
      "  warnings.warn(warn_msg)\n"
     ]
    },
    {
     "data": {
      "text/html": [
       "\n",
       "    <div>\n",
       "      \n",
       "      <progress value='108' max='108' style='width:300px; height:20px; vertical-align: middle;'></progress>\n",
       "      [108/108 03:25, Epoch 3/3]\n",
       "    </div>\n",
       "    <table border=\"1\" class=\"dataframe\">\n",
       "  <thead>\n",
       " <tr style=\"text-align: left;\">\n",
       "      <th>Step</th>\n",
       "      <th>Training Loss</th>\n",
       "    </tr>\n",
       "  </thead>\n",
       "  <tbody>\n",
       "    <tr>\n",
       "      <td>100</td>\n",
       "      <td>1.257200</td>\n",
       "    </tr>\n",
       "  </tbody>\n",
       "</table><p>"
      ],
      "text/plain": [
       "<IPython.core.display.HTML object>"
      ]
     },
     "metadata": {},
     "output_type": "display_data"
    },
    {
     "name": "stdout",
     "output_type": "stream",
     "text": [
      "Training completed!\n"
     ]
    }
   ],
   "source": [
    "from transformers import BertForSequenceClassification, BertTokenizer, Trainer, TrainingArguments\n",
    "from datasets import Dataset\n",
    "import pandas as pd\n",
    "import re\n",
    "import numpy as np\n",
    "from sklearn.metrics import accuracy_score, f1_score\n",
    "import torch\n",
    "\n",
    "# Set all random seeds for reproducibility\n",
    "SEED = 42\n",
    "torch.manual_seed(SEED)\n",
    "torch.backends.cudnn.deterministic = True\n",
    "torch.backends.cudnn.benchmark = False\n",
    "np.random.seed(SEED)\n",
    "\n",
    "# 1. Text Cleaning Function\n",
    "def clean_text(text):\n",
    "    text = str(text).lower()\n",
    "    text = re.sub(r\"[^a-zA-Z0-9,.!?']\", \" \", text)\n",
    "    text = re.sub(r\"\\s+\", \" \", text).strip()\n",
    "    return text\n",
    "\n",
    "# 2. Data Loading and Processing\n",
    "def load_data(filepath):\n",
    "    df = pd.read_csv(filepath)\n",
    "    df['cleaned_text'] = df['text'].apply(clean_text)\n",
    "    return Dataset.from_pandas(df)\n",
    "\n",
    "# 3. Load and Tokenize Data\n",
    "dataset = load_data('email_tone.csv')\n",
    "tokenizer = BertTokenizer.from_pretrained('bert-base-uncased')\n",
    "\n",
    "def tokenize(batch):\n",
    "    return tokenizer(\n",
    "        batch['cleaned_text'], \n",
    "        padding='max_length', \n",
    "        truncation=True,\n",
    "        max_length=128\n",
    "    )\n",
    "\n",
    "tokenized_data = dataset.map(tokenize, batched=True)\n",
    "tokenized_data = tokenized_data.train_test_split(test_size=0.2)\n",
    "\n",
    "# 4. Model Initialization with deterministic settings\n",
    "model = BertForSequenceClassification.from_pretrained(\n",
    "    'bert-base-uncased',\n",
    "    num_labels=4\n",
    ")\n",
    "model.eval()  # Set model to evaluation mode\n",
    "\n",
    "# 5. Training Configuration\n",
    "training_args = TrainingArguments(\n",
    "    output_dir='./results',\n",
    "    overwrite_output_dir=True,\n",
    "    do_train=True,\n",
    "    do_eval=True,\n",
    "    per_device_train_batch_size=8,\n",
    "    per_device_eval_batch_size=8,\n",
    "    num_train_epochs=3,\n",
    "    logging_steps=100,\n",
    "    save_steps=500,\n",
    "    eval_steps=500,\n",
    "    warmup_steps=500,\n",
    "    save_total_limit=1,\n",
    "    seed=SEED,  # Add seed to training arguments\n",
    ")\n",
    "\n",
    "# 6. Metrics Calculation\n",
    "def compute_metrics(pred):\n",
    "    labels = pred.label_ids\n",
    "    preds = pred.predictions.argmax(-1)\n",
    "    return {\n",
    "        'accuracy': accuracy_score(labels, preds),\n",
    "        'f1': f1_score(labels, preds, average='weighted')\n",
    "    }\n",
    "\n",
    "# 7. Trainer Initialization\n",
    "trainer = Trainer(\n",
    "    model=model,\n",
    "    args=training_args,\n",
    "    train_dataset=tokenized_data['train'],\n",
    "    eval_dataset=tokenized_data['test'],\n",
    "    compute_metrics=compute_metrics\n",
    ")\n",
    "\n",
    "# 8. Training\n",
    "print(\"Starting training...\")\n",
    "trainer.train()\n",
    "print(\"Training completed!\")\n",
    "\n",
    "# 9. Deterministic Prediction Function\n",
    "def predict_tone(text):\n",
    "    # Ensure consistent tokenization\n",
    "    inputs = tokenizer(\n",
    "        clean_text(text),\n",
    "        return_tensors='pt',\n",
    "        truncation=True,\n",
    "        padding='max_length',\n",
    "        max_length=128\n",
    "    )\n",
    "    \n",
    "    # Disable all random operations\n",
    "    with torch.no_grad():\n",
    "        model.eval()\n",
    "        outputs = model(**inputs)\n",
    "    \n",
    "    # Get the most confident prediction\n",
    "    probs = torch.nn.functional.softmax(outputs.logits, dim=-1)\n",
    "    pred_idx = torch.argmax(probs).item()\n",
    "    \n",
    "    tones = ['Neutral', 'Passive-Aggressive', 'Aggressive', 'Polite']\n",
    "    return tones[pred_idx]\n",
    "\n",
    "# Test consistency\n",
    " # Should always return 'Aggressive'\n",
    " # Should be identical"
   ]
  },
  {
   "cell_type": "code",
   "execution_count": 113,
   "id": "699ef1d0",
   "metadata": {},
   "outputs": [
    {
     "name": "stdout",
     "output_type": "stream",
     "text": [
      "Passive-Aggressive\n"
     ]
    }
   ],
   "source": [
    "test_text = \"get lost\"\n",
    "print(predict_tone(test_text)) "
   ]
  },
  {
   "cell_type": "code",
   "execution_count": 123,
   "id": "ab6266db",
   "metadata": {},
   "outputs": [
    {
     "data": {
      "text/plain": [
       "'Aggressive'"
      ]
     },
     "execution_count": 123,
     "metadata": {},
     "output_type": "execute_result"
    }
   ],
   "source": [
    "predict_tone(\"THIS IS UNPROFESSIONAL\")"
   ]
  }
 ],
 "metadata": {
  "kernelspec": {
   "display_name": "tone_env",
   "language": "python",
   "name": "python3"
  },
  "language_info": {
   "codemirror_mode": {
    "name": "ipython",
    "version": 3
   },
   "file_extension": ".py",
   "mimetype": "text/x-python",
   "name": "python",
   "nbconvert_exporter": "python",
   "pygments_lexer": "ipython3",
   "version": "3.12.4"
  }
 },
 "nbformat": 4,
 "nbformat_minor": 5
}
